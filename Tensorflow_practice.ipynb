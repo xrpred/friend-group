{
  "nbformat": 4,
  "nbformat_minor": 0,
  "metadata": {
    "colab": {
      "name": "Tensorflow practice.ipynb",
      "provenance": [],
      "authorship_tag": "ABX9TyPRxZU1J4Bh0l+strqH+5ZT",
      "include_colab_link": true
    },
    "kernelspec": {
      "name": "python3",
      "display_name": "Python 3"
    }
  },
  "cells": [
    {
      "cell_type": "markdown",
      "metadata": {
        "id": "view-in-github",
        "colab_type": "text"
      },
      "source": [
        "<a href=\"https://colab.research.google.com/github/xrpred/friend-group/blob/master/Tensorflow_practice.ipynb\" target=\"_parent\"><img src=\"https://colab.research.google.com/assets/colab-badge.svg\" alt=\"Open In Colab\"/></a>"
      ]
    },
    {
      "cell_type": "code",
      "metadata": {
        "id": "lqaALclSUyXS",
        "outputId": "16c373df-61b3-4081-bc02-f3c5e9a7a19f",
        "colab": {
          "base_uri": "https://localhost:8080/"
        }
      },
      "source": [
        "%tensorflow_version 2.x  # this line is not requi"
      ],
      "execution_count": null,
      "outputs": [
        {
          "output_type": "stream",
          "text": [
            "`%tensorflow_version` only switches the major version: 1.x or 2.x.\n",
            "You set: `2.x  # this line is not requi`. This will be interpreted as: `2.x`.\n",
            "\n",
            "\n",
            "TensorFlow 2.x selected.\n"
          ],
          "name": "stdout"
        }
      ]
    },
    {
      "cell_type": "code",
      "metadata": {
        "id": "lDoYPIl8U2tr",
        "outputId": "cfe2c80a-98bb-4b1a-9ed2-be6979122f0e",
        "colab": {
          "base_uri": "https://localhost:8080/",
          "height": 35
        }
      },
      "source": [
        "from __future__ import absolute_import, division, print_function, unicode_literals\n",
        "\n",
        "import numpy as np\n",
        "import pandas as pd\n",
        "import matplotlib.pyplot as plt\n",
        "from IPython.display import clear_output\n",
        "from six.moves import urllib\n",
        "import cv2\n",
        "import tensorflow.compat.v2.feature_column as fc\n",
        "\n",
        "import tensorflow as tf\n",
        "cv2.__version__"
      ],
      "execution_count": 3,
      "outputs": [
        {
          "output_type": "execute_result",
          "data": {
            "application/vnd.google.colaboratory.intrinsic+json": {
              "type": "string"
            },
            "text/plain": [
              "'4.1.2'"
            ]
          },
          "metadata": {
            "tags": []
          },
          "execution_count": 3
        }
      ]
    },
    {
      "cell_type": "code",
      "metadata": {
        "id": "43cL6G_lU5kp"
      },
      "source": [
        "!pip install -q sklearn"
      ],
      "execution_count": null,
      "outputs": []
    },
    {
      "cell_type": "code",
      "metadata": {
        "id": "pydZDprdVEbn",
        "outputId": "891c46ef-ef8d-418b-ac94-6f8e895cdbf3",
        "colab": {
          "base_uri": "https://localhost:8080/"
        }
      },
      "source": [
        "# Load dataset.\n",
        "dftrain = pd.read_csv('https://storage.googleapis.com/tf-datasets/titanic/train.csv') # training data\n",
        "dfeval = pd.read_csv('https://storage.googleapis.com/tf-datasets/titanic/eval.csv') # testing data\n",
        "y_train = dftrain.pop('survived')\n",
        "y_eval = dfeval.pop('survived')\n",
        "\n",
        "\n",
        "\n",
        "CATEGORICAL_COLUMNS = ['sex', 'n_siblings_spouses', 'parch', 'class', 'deck',\n",
        "                       'embark_town', 'alone']\n",
        "NUMERIC_COLUMNS = ['age', 'fare']\n",
        "\n",
        "feature_columns = []\n",
        "for feature_name in CATEGORICAL_COLUMNS:\n",
        "  vocabulary = dftrain[feature_name].unique()  # gets a list of all unique values from given feature column\n",
        "  feature_columns.append(tf.feature_column.categorical_column_with_vocabulary_list(feature_name, vocabulary))\n",
        "\n",
        "for feature_name in NUMERIC_COLUMNS:\n",
        "  feature_columns.append(tf.feature_column.numeric_column(feature_name, dtype=tf.float32))\n",
        "\n",
        "print(feature_columns)\n"
      ],
      "execution_count": null,
      "outputs": [
        {
          "output_type": "stream",
          "text": [
            "[VocabularyListCategoricalColumn(key='sex', vocabulary_list=('male', 'female'), dtype=tf.string, default_value=-1, num_oov_buckets=0), VocabularyListCategoricalColumn(key='n_siblings_spouses', vocabulary_list=(1, 0, 3, 4, 2, 5, 8), dtype=tf.int64, default_value=-1, num_oov_buckets=0), VocabularyListCategoricalColumn(key='parch', vocabulary_list=(0, 1, 2, 5, 3, 4), dtype=tf.int64, default_value=-1, num_oov_buckets=0), VocabularyListCategoricalColumn(key='class', vocabulary_list=('Third', 'First', 'Second'), dtype=tf.string, default_value=-1, num_oov_buckets=0), VocabularyListCategoricalColumn(key='deck', vocabulary_list=('unknown', 'C', 'G', 'A', 'B', 'D', 'F', 'E'), dtype=tf.string, default_value=-1, num_oov_buckets=0), VocabularyListCategoricalColumn(key='embark_town', vocabulary_list=('Southampton', 'Cherbourg', 'Queenstown', 'unknown'), dtype=tf.string, default_value=-1, num_oov_buckets=0), VocabularyListCategoricalColumn(key='alone', vocabulary_list=('n', 'y'), dtype=tf.string, default_value=-1, num_oov_buckets=0), NumericColumn(key='age', shape=(1,), default_value=None, dtype=tf.float32, normalizer_fn=None), NumericColumn(key='fare', shape=(1,), default_value=None, dtype=tf.float32, normalizer_fn=None)]\n"
          ],
          "name": "stdout"
        }
      ]
    },
    {
      "cell_type": "code",
      "metadata": {
        "id": "uB5VHjPwbBc5",
        "outputId": "279f9544-13fd-42b6-ce99-22fa839e9345",
        "colab": {
          "base_uri": "https://localhost:8080/"
        }
      },
      "source": [
        "dftrain[\"sex\"].unique()"
      ],
      "execution_count": null,
      "outputs": [
        {
          "output_type": "execute_result",
          "data": {
            "text/plain": [
              "array(['male', 'female'], dtype=object)"
            ]
          },
          "metadata": {
            "tags": []
          },
          "execution_count": 6
        }
      ]
    },
    {
      "cell_type": "code",
      "metadata": {
        "id": "5plGP51UbE7s"
      },
      "source": [
        ""
      ],
      "execution_count": null,
      "outputs": []
    },
    {
      "cell_type": "code",
      "metadata": {
        "id": "z5a8UKzjcsvV",
        "outputId": "01b9ef2e-57cf-43b4-fc34-f9c6eeb6fd2b",
        "colab": {
          "base_uri": "https://localhost:8080/"
        }
      },
      "source": [
        "def make_input_fn(data_df, label_df, num_epochs=15, shuffle=True, batch_size=32):\n",
        "  def input_function():  # inner function, this will be returned\n",
        "    ds = tf.data.Dataset.from_tensor_slices((dict(data_df), label_df))  # create tf.data.Dataset object with data and its label\n",
        "    if shuffle:\n",
        "      ds = ds.shuffle(1000)  # randomize order of data\n",
        "    ds = ds.batch(batch_size).repeat(num_epochs)  # split dataset into batches of 32 and repeat process for number of epochs\n",
        "    return ds  # return a batch of the dataset\n",
        "  return input_function  # return a function object for use\n",
        "\n",
        "train_input_fn = make_input_fn(dftrain, y_train)  # here we will call the input_function that was returned to us to get a dataset object we can feed to the model\n",
        "eval_input_fn = make_input_fn(dfeval, y_eval, num_epochs=1, shuffle=False)\n",
        "\n",
        "\n",
        "linear_est = tf.estimator.LinearClassifier(feature_columns=feature_columns)\n",
        "# We create a linear estimtor by passing the feature columns we created earlier\n",
        "\n",
        "\n",
        "\n",
        "linear_est.train(train_input_fn)  # train\n",
        "result = linear_est.evaluate(eval_input_fn)  # get model metrics/stats by testing on tetsing data\n",
        "\n",
        "clear_output()  # clears consoke output\n",
        "print(result['accuracy'])  # the result variable is simply a dict of stats about our model\n",
        "print(result)"
      ],
      "execution_count": null,
      "outputs": [
        {
          "output_type": "stream",
          "text": [
            "0.7537879\n",
            "{'accuracy': 0.7537879, 'accuracy_baseline': 0.625, 'auc': 0.8361494, 'auc_precision_recall': 0.788083, 'average_loss': 0.4742385, 'label/mean': 0.375, 'loss': 0.4640752, 'precision': 0.66346157, 'prediction/mean': 0.3978218, 'recall': 0.6969697, 'global_step': 300}\n"
          ],
          "name": "stdout"
        }
      ]
    },
    {
      "cell_type": "code",
      "metadata": {
        "id": "t0UgvDkNeo4R",
        "outputId": "25973b90-0210-4233-ce06-f5bc146541cb",
        "colab": {
          "base_uri": "https://localhost:8080/"
        }
      },
      "source": [
        "result = list(linear_est.predict(eval_input_fn))\n",
        "print(result[4]['probabilities'][1])\n",
        "print(dfeval.loc[4])\n",
        "print(y_eval.loc[4])"
      ],
      "execution_count": null,
      "outputs": [
        {
          "output_type": "stream",
          "text": [
            "INFO:tensorflow:Calling model_fn.\n",
            "WARNING:tensorflow:Layer linear/linear_model is casting an input tensor from dtype float64 to the layer's dtype of float32, which is new behavior in TensorFlow 2.  The layer has dtype float32 because its dtype defaults to floatx.\n",
            "\n",
            "If you intended to run this layer in float32, you can safely ignore this warning. If in doubt, this warning is likely only an issue if you are porting a TensorFlow 1.X model to TensorFlow 2.\n",
            "\n",
            "To change all layers to have dtype float64 by default, call `tf.keras.backend.set_floatx('float64')`. To change just this layer, pass dtype='float64' to the layer constructor. If you are the author of this layer, you can disable autocasting by passing autocast=False to the base Layer constructor.\n",
            "\n",
            "INFO:tensorflow:Done calling model_fn.\n",
            "INFO:tensorflow:Graph was finalized.\n",
            "INFO:tensorflow:Restoring parameters from /tmp/tmpxmxfrshm/model.ckpt-300\n",
            "INFO:tensorflow:Running local_init_op.\n",
            "INFO:tensorflow:Done running local_init_op.\n",
            "0.2563343\n",
            "sex                          male\n",
            "age                            34\n",
            "n_siblings_spouses              0\n",
            "parch                           0\n",
            "fare                           13\n",
            "class                      Second\n",
            "deck                            D\n",
            "embark_town           Southampton\n",
            "alone                           y\n",
            "Name: 4, dtype: object\n",
            "1\n"
          ],
          "name": "stdout"
        }
      ]
    },
    {
      "cell_type": "code",
      "metadata": {
        "id": "3q54tDhkfAAA",
        "outputId": "bdbe6f73-1df9-4b9e-9a8e-3921ad330cc0",
        "colab": {
          "base_uri": "https://localhost:8080/"
        }
      },
      "source": [
        "CSV_COLUMN_NAMES = ['SepalLength', 'SepalWidth', 'PetalLength', 'PetalWidth', 'Species']\n",
        "SPECIES = ['Setosa', 'Versicolor', 'Virginica']\n",
        "# Lets define some constants to help us later on\n",
        "\n",
        "\n",
        "train_path = tf.keras.utils.get_file(\n",
        "    \"iris_training.csv\", \"https://storage.googleapis.com/download.tensorflow.org/data/iris_training.csv\")\n",
        "test_path = tf.keras.utils.get_file(\n",
        "    \"iris_test.csv\", \"https://storage.googleapis.com/download.tensorflow.org/data/iris_test.csv\")\n",
        "\n",
        "train = pd.read_csv(train_path, names=CSV_COLUMN_NAMES, header=0)\n",
        "test = pd.read_csv(test_path, names=CSV_COLUMN_NAMES, header=0)\n",
        "# Here we use keras (a module inside of TensorFlow) to grab our datasets and read them into a pandas dataframe\n",
        "\n",
        "train_y = train.pop('Species')\n",
        "test_y = test.pop('Species')\n",
        "\n",
        "\n",
        "\n",
        "def input_fn(features, labels, training=True, batch_size=256):\n",
        "    # Convert the inputs to a Dataset.\n",
        "    dataset = tf.data.Dataset.from_tensor_slices((dict(features), labels))\n",
        "\n",
        "    # Shuffle and repeat if you are in training mode.\n",
        "    if training:\n",
        "        dataset = dataset.shuffle(1000).repeat()\n",
        "    \n",
        "    return dataset.batch(batch_size)\n",
        " \n",
        "\n",
        "my_feature_columns = []\n",
        "for key in train.keys():\n",
        "    my_feature_columns.append(tf.feature_column.numeric_column(key=key))\n",
        "\n",
        "\n",
        "# Build a DNN with 2 hidden layers with 30 and 10 hidden nodes each.\n",
        "classifier = tf.estimator.DNNClassifier(\n",
        "    feature_columns=my_feature_columns,\n",
        "    # Two hidden layers of 30 and 10 nodes respectively.\n",
        "    hidden_units=[30, 10],\n",
        "    # The model must choose between 3 classes.\n",
        "    n_classes=3)\n",
        "\n",
        "\n",
        "\n",
        "classifier.train(\n",
        "    input_fn=lambda: input_fn(train, train_y, training=True),\n",
        "    steps=5000)\n",
        "# We include a lambda to avoid creating an inner function previously\n",
        "\n",
        "eval_result = classifier.evaluate(input_fn=lambda: input_fn(test, test_y, training=False))\n",
        "print('\\nTest set accuracy: {accuracy:0.3f}\\n'.format(**eval_result))\n"
      ],
      "execution_count": null,
      "outputs": [
        {
          "output_type": "stream",
          "text": [
            "INFO:tensorflow:Using default config.\n",
            "WARNING:tensorflow:Using temporary folder as model directory: /tmp/tmpw7qakvql\n",
            "INFO:tensorflow:Using config: {'_model_dir': '/tmp/tmpw7qakvql', '_tf_random_seed': None, '_save_summary_steps': 100, '_save_checkpoints_steps': None, '_save_checkpoints_secs': 600, '_session_config': allow_soft_placement: true\n",
            "graph_options {\n",
            "  rewrite_options {\n",
            "    meta_optimizer_iterations: ONE\n",
            "  }\n",
            "}\n",
            ", '_keep_checkpoint_max': 5, '_keep_checkpoint_every_n_hours': 10000, '_log_step_count_steps': 100, '_train_distribute': None, '_device_fn': None, '_protocol': None, '_eval_distribute': None, '_experimental_distribute': None, '_experimental_max_worker_delay_secs': None, '_session_creation_timeout_secs': 7200, '_service': None, '_cluster_spec': ClusterSpec({}), '_task_type': 'worker', '_task_id': 0, '_global_id_in_cluster': 0, '_master': '', '_evaluation_master': '', '_is_chief': True, '_num_ps_replicas': 0, '_num_worker_replicas': 1}\n",
            "INFO:tensorflow:Calling model_fn.\n",
            "WARNING:tensorflow:Layer dnn is casting an input tensor from dtype float64 to the layer's dtype of float32, which is new behavior in TensorFlow 2.  The layer has dtype float32 because its dtype defaults to floatx.\n",
            "\n",
            "If you intended to run this layer in float32, you can safely ignore this warning. If in doubt, this warning is likely only an issue if you are porting a TensorFlow 1.X model to TensorFlow 2.\n",
            "\n",
            "To change all layers to have dtype float64 by default, call `tf.keras.backend.set_floatx('float64')`. To change just this layer, pass dtype='float64' to the layer constructor. If you are the author of this layer, you can disable autocasting by passing autocast=False to the base Layer constructor.\n",
            "\n",
            "INFO:tensorflow:Done calling model_fn.\n",
            "INFO:tensorflow:Create CheckpointSaverHook.\n",
            "INFO:tensorflow:Graph was finalized.\n",
            "INFO:tensorflow:Running local_init_op.\n",
            "INFO:tensorflow:Done running local_init_op.\n",
            "INFO:tensorflow:Calling checkpoint listeners before saving checkpoint 0...\n",
            "INFO:tensorflow:Saving checkpoints for 0 into /tmp/tmpw7qakvql/model.ckpt.\n",
            "INFO:tensorflow:Calling checkpoint listeners after saving checkpoint 0...\n",
            "INFO:tensorflow:loss = 1.7064126, step = 0\n",
            "INFO:tensorflow:global_step/sec: 360.966\n",
            "INFO:tensorflow:loss = 1.1060836, step = 100 (0.279 sec)\n",
            "INFO:tensorflow:global_step/sec: 485.512\n",
            "INFO:tensorflow:loss = 1.0252094, step = 200 (0.206 sec)\n",
            "INFO:tensorflow:global_step/sec: 462.621\n",
            "INFO:tensorflow:loss = 0.97963846, step = 300 (0.215 sec)\n",
            "INFO:tensorflow:global_step/sec: 470.698\n",
            "INFO:tensorflow:loss = 0.95526695, step = 400 (0.216 sec)\n",
            "INFO:tensorflow:global_step/sec: 404.839\n",
            "INFO:tensorflow:loss = 0.94132304, step = 500 (0.245 sec)\n",
            "INFO:tensorflow:global_step/sec: 464.214\n",
            "INFO:tensorflow:loss = 0.9195577, step = 600 (0.217 sec)\n",
            "INFO:tensorflow:global_step/sec: 410.981\n",
            "INFO:tensorflow:loss = 0.9099448, step = 700 (0.240 sec)\n",
            "INFO:tensorflow:global_step/sec: 487.721\n",
            "INFO:tensorflow:loss = 0.8926429, step = 800 (0.208 sec)\n",
            "INFO:tensorflow:global_step/sec: 470.225\n",
            "INFO:tensorflow:loss = 0.8756187, step = 900 (0.213 sec)\n",
            "INFO:tensorflow:global_step/sec: 457.336\n",
            "INFO:tensorflow:loss = 0.869006, step = 1000 (0.217 sec)\n",
            "INFO:tensorflow:global_step/sec: 432.033\n",
            "INFO:tensorflow:loss = 0.8645375, step = 1100 (0.233 sec)\n",
            "INFO:tensorflow:global_step/sec: 391.294\n",
            "INFO:tensorflow:loss = 0.8524078, step = 1200 (0.256 sec)\n",
            "INFO:tensorflow:global_step/sec: 469.446\n",
            "INFO:tensorflow:loss = 0.8462281, step = 1300 (0.211 sec)\n",
            "INFO:tensorflow:global_step/sec: 449.251\n",
            "INFO:tensorflow:loss = 0.8288879, step = 1400 (0.222 sec)\n",
            "INFO:tensorflow:global_step/sec: 491.711\n",
            "INFO:tensorflow:loss = 0.81995475, step = 1500 (0.208 sec)\n",
            "INFO:tensorflow:global_step/sec: 452.511\n",
            "INFO:tensorflow:loss = 0.8024249, step = 1600 (0.216 sec)\n",
            "INFO:tensorflow:global_step/sec: 507.189\n",
            "INFO:tensorflow:loss = 0.79860216, step = 1700 (0.198 sec)\n",
            "INFO:tensorflow:global_step/sec: 481.976\n",
            "INFO:tensorflow:loss = 0.79451424, step = 1800 (0.208 sec)\n",
            "INFO:tensorflow:global_step/sec: 456.134\n",
            "INFO:tensorflow:loss = 0.7922716, step = 1900 (0.222 sec)\n",
            "INFO:tensorflow:global_step/sec: 433.397\n",
            "INFO:tensorflow:loss = 0.78701174, step = 2000 (0.231 sec)\n",
            "INFO:tensorflow:global_step/sec: 422.076\n",
            "INFO:tensorflow:loss = 0.78329194, step = 2100 (0.237 sec)\n",
            "INFO:tensorflow:global_step/sec: 419.478\n",
            "INFO:tensorflow:loss = 0.78124356, step = 2200 (0.235 sec)\n",
            "INFO:tensorflow:global_step/sec: 390.201\n",
            "INFO:tensorflow:loss = 0.77928853, step = 2300 (0.259 sec)\n",
            "INFO:tensorflow:global_step/sec: 435.668\n",
            "INFO:tensorflow:loss = 0.76929295, step = 2400 (0.228 sec)\n",
            "INFO:tensorflow:global_step/sec: 379.947\n",
            "INFO:tensorflow:loss = 0.7714343, step = 2500 (0.262 sec)\n",
            "INFO:tensorflow:global_step/sec: 380.349\n",
            "INFO:tensorflow:loss = 0.7680603, step = 2600 (0.263 sec)\n",
            "INFO:tensorflow:global_step/sec: 350.828\n",
            "INFO:tensorflow:loss = 0.7593195, step = 2700 (0.289 sec)\n",
            "INFO:tensorflow:global_step/sec: 399.517\n",
            "INFO:tensorflow:loss = 0.744688, step = 2800 (0.249 sec)\n",
            "INFO:tensorflow:global_step/sec: 382.109\n",
            "INFO:tensorflow:loss = 0.74304104, step = 2900 (0.262 sec)\n",
            "INFO:tensorflow:global_step/sec: 412.264\n",
            "INFO:tensorflow:loss = 0.7461133, step = 3000 (0.239 sec)\n",
            "INFO:tensorflow:global_step/sec: 323.368\n",
            "INFO:tensorflow:loss = 0.7298492, step = 3100 (0.309 sec)\n",
            "INFO:tensorflow:global_step/sec: 391.066\n",
            "INFO:tensorflow:loss = 0.7343298, step = 3200 (0.257 sec)\n",
            "INFO:tensorflow:global_step/sec: 388.312\n",
            "INFO:tensorflow:loss = 0.73845935, step = 3300 (0.257 sec)\n",
            "INFO:tensorflow:global_step/sec: 424.764\n",
            "INFO:tensorflow:loss = 0.7244451, step = 3400 (0.237 sec)\n",
            "INFO:tensorflow:global_step/sec: 400.178\n",
            "INFO:tensorflow:loss = 0.725936, step = 3500 (0.253 sec)\n",
            "INFO:tensorflow:global_step/sec: 352.32\n",
            "INFO:tensorflow:loss = 0.7293061, step = 3600 (0.279 sec)\n",
            "INFO:tensorflow:global_step/sec: 376.705\n",
            "INFO:tensorflow:loss = 0.7173181, step = 3700 (0.270 sec)\n",
            "INFO:tensorflow:global_step/sec: 334.751\n",
            "INFO:tensorflow:loss = 0.71834385, step = 3800 (0.296 sec)\n",
            "INFO:tensorflow:global_step/sec: 419.978\n",
            "INFO:tensorflow:loss = 0.715734, step = 3900 (0.237 sec)\n",
            "INFO:tensorflow:global_step/sec: 411.691\n",
            "INFO:tensorflow:loss = 0.7123637, step = 4000 (0.241 sec)\n",
            "INFO:tensorflow:global_step/sec: 414.654\n",
            "INFO:tensorflow:loss = 0.72047806, step = 4100 (0.245 sec)\n",
            "INFO:tensorflow:global_step/sec: 394.883\n",
            "INFO:tensorflow:loss = 0.70729434, step = 4200 (0.251 sec)\n",
            "INFO:tensorflow:global_step/sec: 394.949\n",
            "INFO:tensorflow:loss = 0.6988047, step = 4300 (0.257 sec)\n",
            "INFO:tensorflow:global_step/sec: 374.329\n",
            "INFO:tensorflow:loss = 0.70126873, step = 4400 (0.264 sec)\n",
            "INFO:tensorflow:global_step/sec: 393.23\n",
            "INFO:tensorflow:loss = 0.7000203, step = 4500 (0.256 sec)\n",
            "INFO:tensorflow:global_step/sec: 362.531\n",
            "INFO:tensorflow:loss = 0.70232415, step = 4600 (0.275 sec)\n",
            "INFO:tensorflow:global_step/sec: 395.689\n",
            "INFO:tensorflow:loss = 0.6998572, step = 4700 (0.255 sec)\n",
            "INFO:tensorflow:global_step/sec: 368.963\n",
            "INFO:tensorflow:loss = 0.6857282, step = 4800 (0.269 sec)\n",
            "INFO:tensorflow:global_step/sec: 385\n",
            "INFO:tensorflow:loss = 0.68773425, step = 4900 (0.256 sec)\n",
            "INFO:tensorflow:Calling checkpoint listeners before saving checkpoint 5000...\n",
            "INFO:tensorflow:Saving checkpoints for 5000 into /tmp/tmpw7qakvql/model.ckpt.\n",
            "INFO:tensorflow:Calling checkpoint listeners after saving checkpoint 5000...\n",
            "INFO:tensorflow:Loss for final step: 0.6845515.\n",
            "INFO:tensorflow:Calling model_fn.\n",
            "WARNING:tensorflow:Layer dnn is casting an input tensor from dtype float64 to the layer's dtype of float32, which is new behavior in TensorFlow 2.  The layer has dtype float32 because its dtype defaults to floatx.\n",
            "\n",
            "If you intended to run this layer in float32, you can safely ignore this warning. If in doubt, this warning is likely only an issue if you are porting a TensorFlow 1.X model to TensorFlow 2.\n",
            "\n",
            "To change all layers to have dtype float64 by default, call `tf.keras.backend.set_floatx('float64')`. To change just this layer, pass dtype='float64' to the layer constructor. If you are the author of this layer, you can disable autocasting by passing autocast=False to the base Layer constructor.\n",
            "\n",
            "INFO:tensorflow:Done calling model_fn.\n",
            "INFO:tensorflow:Starting evaluation at 2020-11-15T11:14:44Z\n",
            "INFO:tensorflow:Graph was finalized.\n",
            "INFO:tensorflow:Restoring parameters from /tmp/tmpw7qakvql/model.ckpt-5000\n",
            "INFO:tensorflow:Running local_init_op.\n",
            "INFO:tensorflow:Done running local_init_op.\n",
            "INFO:tensorflow:Inference Time : 0.26608s\n",
            "INFO:tensorflow:Finished evaluation at 2020-11-15-11:14:44\n",
            "INFO:tensorflow:Saving dict for global step 5000: accuracy = 0.9, average_loss = 0.6818889, global_step = 5000, loss = 0.6818889\n",
            "INFO:tensorflow:Saving 'checkpoint_path' summary for global step 5000: /tmp/tmpw7qakvql/model.ckpt-5000\n",
            "\n",
            "Test set accuracy: 0.900\n",
            "\n"
          ],
          "name": "stdout"
        }
      ]
    },
    {
      "cell_type": "code",
      "metadata": {
        "id": "w6jXljZpnTUc",
        "outputId": "803ae9fd-50d3-44b6-8a4d-8cd693b48c88",
        "colab": {
          "base_uri": "https://localhost:8080/"
        }
      },
      "source": [
        "eval_result = classifier.evaluate(input_fn=lambda: input_fn(test, test_y, training=False))\n",
        "print('\\nTest set accuracy: {accuracy:0.3f}\\n'.format(**eval_result))"
      ],
      "execution_count": null,
      "outputs": [
        {
          "output_type": "stream",
          "text": [
            "INFO:tensorflow:Calling model_fn.\n",
            "WARNING:tensorflow:Layer dnn is casting an input tensor from dtype float64 to the layer's dtype of float32, which is new behavior in TensorFlow 2.  The layer has dtype float32 because its dtype defaults to floatx.\n",
            "\n",
            "If you intended to run this layer in float32, you can safely ignore this warning. If in doubt, this warning is likely only an issue if you are porting a TensorFlow 1.X model to TensorFlow 2.\n",
            "\n",
            "To change all layers to have dtype float64 by default, call `tf.keras.backend.set_floatx('float64')`. To change just this layer, pass dtype='float64' to the layer constructor. If you are the author of this layer, you can disable autocasting by passing autocast=False to the base Layer constructor.\n",
            "\n",
            "INFO:tensorflow:Done calling model_fn.\n",
            "INFO:tensorflow:Starting evaluation at 2020-11-15T11:16:20Z\n",
            "INFO:tensorflow:Graph was finalized.\n",
            "INFO:tensorflow:Restoring parameters from /tmp/tmpw7qakvql/model.ckpt-5000\n",
            "INFO:tensorflow:Running local_init_op.\n",
            "INFO:tensorflow:Done running local_init_op.\n",
            "INFO:tensorflow:Inference Time : 0.23682s\n",
            "INFO:tensorflow:Finished evaluation at 2020-11-15-11:16:20\n",
            "INFO:tensorflow:Saving dict for global step 5000: accuracy = 0.9, average_loss = 0.6818889, global_step = 5000, loss = 0.6818889\n",
            "INFO:tensorflow:Saving 'checkpoint_path' summary for global step 5000: /tmp/tmpw7qakvql/model.ckpt-5000\n",
            "\n",
            "Test set accuracy: 0.900\n",
            "\n"
          ],
          "name": "stdout"
        }
      ]
    },
    {
      "cell_type": "code",
      "metadata": {
        "id": "DmGiRAocn5ds",
        "outputId": "d8e3fff0-78d0-4c21-8850-fb29eaa1e978",
        "colab": {
          "base_uri": "https://localhost:8080/"
        }
      },
      "source": [
        "def input_fn(features, batch_size=256):\n",
        "    # Convert the inputs to a Dataset without labels.\n",
        "    return tf.data.Dataset.from_tensor_slices(dict(features)).batch(batch_size)\n",
        "\n",
        "features = ['SepalLength', 'SepalWidth', 'PetalLength', 'PetalWidth']\n",
        "predict = {}\n",
        "\n",
        "print(\"Please type numeric values as prompted.\")\n",
        "for feature in features:\n",
        "  valid = True\n",
        "  while valid: \n",
        "    val = input(feature + \": \")\n",
        "    if not val.isdigit(): valid = False\n",
        "\n",
        "  predict[feature] = [float(val)]\n",
        "\n",
        "predictions = classifier.predict(input_fn=lambda: input_fn(predict))\n",
        "for pred_dict in predictions:\n",
        "    print(pred_dict)\n",
        "    class_id = pred_dict['class_ids'][0]\n",
        "    probability = pred_dict['probabilities'][class_id]\n",
        "\n",
        "    print('Prediction is \"{}\" ({:.1f}%)'.format(\n",
        "        SPECIES[class_id], 100 * probability))\n"
      ],
      "execution_count": null,
      "outputs": [
        {
          "output_type": "stream",
          "text": [
            "Please type numeric values as prompted.\n",
            "SepalLength: 1.4\n",
            "SepalWidth: 2.3\n",
            "PetalLength: 4.5\n",
            "PetalWidth: 4.7\n",
            "INFO:tensorflow:Calling model_fn.\n",
            "INFO:tensorflow:Done calling model_fn.\n",
            "INFO:tensorflow:Graph was finalized.\n",
            "INFO:tensorflow:Restoring parameters from /tmp/tmpw7qakvql/model.ckpt-5000\n",
            "INFO:tensorflow:Running local_init_op.\n",
            "INFO:tensorflow:Done running local_init_op.\n",
            "{'logits': array([-1.8193867, -0.6985537,  1.7599609], dtype=float32), 'probabilities': array([0.02505164, 0.0768436 , 0.89810485], dtype=float32), 'class_ids': array([2]), 'classes': array([b'2'], dtype=object), 'all_class_ids': array([0, 1, 2], dtype=int32), 'all_classes': array([b'0', b'1', b'2'], dtype=object)}\n",
            "Prediction is \"Virginica\" (89.8%)\n"
          ],
          "name": "stdout"
        }
      ]
    }
  ]
}